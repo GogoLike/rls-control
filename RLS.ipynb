{
 "cells": [
  {
   "cell_type": "code",
   "execution_count": 1,
   "metadata": {},
   "outputs": [
    {
     "ename": "ModuleNotFoundError",
     "evalue": "No module named 'commpy'",
     "output_type": "error",
     "traceback": [
      "\u001b[1;31m---------------------------------------------------------------------------\u001b[0m",
      "\u001b[1;31mModuleNotFoundError\u001b[0m                       Traceback (most recent call last)",
      "Cell \u001b[1;32mIn[1], line 2\u001b[0m\n\u001b[0;32m      1\u001b[0m \u001b[38;5;28;01mimport\u001b[39;00m \u001b[38;5;21;01mscipy\u001b[39;00m \u001b[38;5;28;01mas\u001b[39;00m \u001b[38;5;21;01msp\u001b[39;00m\n\u001b[1;32m----> 2\u001b[0m \u001b[38;5;28;01mimport\u001b[39;00m \u001b[38;5;21;01mcommpy\u001b[39;00m \u001b[38;5;28;01mas\u001b[39;00m \u001b[38;5;21;01mcp\u001b[39;00m\n\u001b[0;32m      3\u001b[0m \u001b[38;5;28;01mimport\u001b[39;00m \u001b[38;5;21;01mnumpy\u001b[39;00m \u001b[38;5;28;01mas\u001b[39;00m \u001b[38;5;21;01mnp\u001b[39;00m\n\u001b[0;32m      4\u001b[0m \u001b[38;5;28;01mimport\u001b[39;00m \u001b[38;5;21;01mmatplotlib\u001b[39;00m\u001b[38;5;21;01m.\u001b[39;00m\u001b[38;5;21;01mpyplot\u001b[39;00m \u001b[38;5;28;01mas\u001b[39;00m \u001b[38;5;21;01mplt\u001b[39;00m\n",
      "\u001b[1;31mModuleNotFoundError\u001b[0m: No module named 'commpy'"
     ]
    }
   ],
   "source": [
    "import scipy as sp\n",
    "import commpy as cp\n",
    "import numpy as np\n",
    "import matplotlib.pyplot as plt\n",
    "from matplotlib.ticker import LinearLocator\n",
    "from matplotlib import cm\n",
    "from matplotlib import ticker\n",
    "\n",
    "# import ray\n",
    "# ray.init()"
   ]
  },
  {
   "cell_type": "code",
   "execution_count": null,
   "metadata": {},
   "outputs": [
    {
     "ename": "",
     "evalue": "",
     "output_type": "error",
     "traceback": [
      "\u001b[1;31mДля выполнения ячеек с \"c:\\Users\\i.kalayda\\Documents\\rls-control\\.conda\\python.exe\" требуется пакет ipykernel.\n",
      "\u001b[1;31mВыполните следующую команду, чтобы установить \"ipykernel\" в среде Python. \n",
      "\u001b[1;31mКоманда: \"conda install -p c:\\Users\\i.kalayda\\Documents\\rls-control\\.conda ipykernel --update-deps --force-reinstall\""
     ]
    }
   ],
   "source": [
    "t_sim = 7*(10**-8)                  # длительность одного символа последовательности\n",
    "T_p = 13.65 * (10**-6)              # период повторения импульсов\n",
    "T_sl = T_p * 5                      # время стояния луча\n",
    "dR = 10.5                           # разрешение по дальности\n",
    "dV = 219.78                         # разрешение по скорости\n",
    "\n",
    "dt_z = 2*dR/3e8                     # разрешение по времени задержки (оно же по дальности, но во временной области)\n",
    "\n",
    "N = 2                               # количество импульсов\n",
    "l = 15                              # длина последовательности\n",
    "\n",
    "D = 0.91                            # правильное обнаружение\n",
    "F = 4.1e-8                          # ложная тревога\n",
    "\n",
    "F_main = 10e10                      # несущая частота\n",
    "lambda_main = 3e8/F_main            # несущая длина волны\n",
    "F_prom = 10/t_sim                   # промежуточная частота\n",
    "lambda_prom = 3e8/F_prom            # длина волны промежуточная\n",
    "\n",
    "print(\"Промежуточная частота:\", F_prom)\n",
    "print(\"Полоса:\", 1/t_sim)\n",
    "print(\"Промежуточная длина волны:\", lambda_prom)\n",
    "\n",
    "fd = 10*F_prom                      # частота дискретизации\n",
    "td = 1/fd                           # период дискретизации\n",
    "\n",
    "sigma_noise = np.sqrt((N*np.floor(t_sim*l/td))/((np.log10(F)/np.log10(D))-1))   # Уровень шума\n",
    "\n",
    "print(\"SNR [разы] = \", (np.log10(F)/np.log10(D))-1)\n",
    "print(\"Sigma noise = \", sigma_noise)\n",
    "\n",
    "t_one = np.arange(0, ((t_sim*l)//td) * td, td)          # ось времени одного импульса\n",
    "t_pach = np.arange(0, (T_sl//td) * td, td)              # ось времени одного стояния луча\n",
    "\n",
    "n_t_sim = int(np.ceil(t_sim/td))\n",
    "print(n_t_sim)\n",
    "print(\"Время стояния луча: \", T_sl)"
   ]
  },
  {
   "attachments": {},
   "cell_type": "markdown",
   "metadata": {},
   "source": [
    "### Входные данные о цели для имитации работы"
   ]
  },
  {
   "cell_type": "code",
   "execution_count": null,
   "metadata": {},
   "outputs": [
    {
     "ename": "",
     "evalue": "",
     "output_type": "error",
     "traceback": [
      "\u001b[1;31mДля выполнения ячеек с \"c:\\Users\\i.kalayda\\Documents\\rls-control\\.conda\\python.exe\" требуется пакет ipykernel.\n",
      "\u001b[1;31mВыполните следующую команду, чтобы установить \"ipykernel\" в среде Python. \n",
      "\u001b[1;31mКоманда: \"conda install -p c:\\Users\\i.kalayda\\Documents\\rls-control\\.conda ipykernel --update-deps --force-reinstall\""
     ]
    }
   ],
   "source": [
    "# Входные данные для имитации цели\n",
    "\n",
    "R_str = input(\"\\nВведите дальность до цели [м]: \")\n",
    "V_str = input(\"Введите скорость цели [м/с]: \")\n",
    "\n",
    "R = float(R_str)\n",
    "V = float(V_str)\n",
    "\n",
    "# параметры отраженного сигнала\n",
    "\n",
    "t_z = 2*R/3e8               # время задержки сигнала до цели\n",
    "f_sm = 2*V/lambda_main      # смещение частоты отраженного от цели сигнала\n",
    "# f_sm = 2*V/lambda_prom      # смещение частоты отраженного от цели сигнала\n",
    "\n",
    "print(\"\\nВремя задержки:\", t_z)\n",
    "print(\"Смещение частоты:\", f_sm)"
   ]
  },
  {
   "attachments": {},
   "cell_type": "markdown",
   "metadata": {},
   "source": [
    "### Зондирующий сигнал"
   ]
  },
  {
   "cell_type": "code",
   "execution_count": null,
   "metadata": {},
   "outputs": [
    {
     "ename": "",
     "evalue": "",
     "output_type": "error",
     "traceback": [
      "\u001b[1;31mДля выполнения ячеек с \"c:\\Users\\i.kalayda\\Documents\\rls-control\\.conda\\python.exe\" требуется пакет ipykernel.\n",
      "\u001b[1;31mВыполните следующую команду, чтобы установить \"ipykernel\" в среде Python. \n",
      "\u001b[1;31mКоманда: \"conda install -p c:\\Users\\i.kalayda\\Documents\\rls-control\\.conda ipykernel --update-deps --force-reinstall\""
     ]
    }
   ],
   "source": [
    "# Последовательность Задова-Чу\n",
    "\n",
    "ZC_root = cp.sequences.zcsequence(1, l)\n",
    "\n",
    "CV = [2, 5, 8]\n",
    "\n",
    "ZC_cv = np.zeros((len(CV), l), dtype=np.complex_)\n",
    "i = 0\n",
    "for cv in CV:\n",
    "    for k in range(l):\n",
    "        ZC_cv[i][k] = ZC_root[np.mod(k + cv, l)]\n",
    "    i += 1\n",
    "\n",
    "ZC = np.hstack([ZC_cv[0][:5], ZC_cv[1][:4], ZC_cv[2][:6]])\n",
    "\n",
    "print(len(ZC))\n",
    "print(ZC)"
   ]
  },
  {
   "cell_type": "code",
   "execution_count": null,
   "metadata": {},
   "outputs": [
    {
     "ename": "",
     "evalue": "",
     "output_type": "error",
     "traceback": [
      "\u001b[1;31mДля выполнения ячеек с \"c:\\Users\\i.kalayda\\Documents\\rls-control\\.conda\\python.exe\" требуется пакет ipykernel.\n",
      "\u001b[1;31mВыполните следующую команду, чтобы установить \"ipykernel\" в среде Python. \n",
      "\u001b[1;31mКоманда: \"conda install -p c:\\Users\\i.kalayda\\Documents\\rls-control\\.conda ipykernel --update-deps --force-reinstall\""
     ]
    }
   ],
   "source": [
    "# Ортогональная последовательность Задова-Чу\n",
    "\n",
    "ZC_root_ort = cp.sequences.zcsequence(2, l, q=2)\n",
    "\n",
    "CV = [2, 5, 8]\n",
    "\n",
    "ZC_cv_ort = np.zeros((len(CV), l), dtype=np.complex_)\n",
    "i = 0\n",
    "for cv in CV:\n",
    "    for k in range(l):\n",
    "        ZC_cv_ort[i][k] = ZC_root_ort[np.mod(k + cv, l)]\n",
    "    i += 1\n",
    "\n",
    "ZC_ort = np.hstack([ZC_cv_ort[0][:5], ZC_cv_ort[1][:4], ZC_cv_ort[2][:6]])\n",
    "\n",
    "print(len(ZC_ort))\n",
    "print(ZC_ort)"
   ]
  },
  {
   "cell_type": "code",
   "execution_count": null,
   "metadata": {},
   "outputs": [
    {
     "ename": "",
     "evalue": "",
     "output_type": "error",
     "traceback": [
      "\u001b[1;31mДля выполнения ячеек с \"c:\\Users\\i.kalayda\\Documents\\rls-control\\.conda\\python.exe\" требуется пакет ipykernel.\n",
      "\u001b[1;31mВыполните следующую команду, чтобы установить \"ipykernel\" в среде Python. \n",
      "\u001b[1;31mКоманда: \"conda install -p c:\\Users\\i.kalayda\\Documents\\rls-control\\.conda ipykernel --update-deps --force-reinstall\""
     ]
    }
   ],
   "source": [
    "fig, (ax1, ax2) = plt.subplots(2, figsize=(17,10))\n",
    "\n",
    "ax1.plot(range(l*10), [np.angle(ZC[i//10])/np.pi for i in range(150)])\n",
    "ax1.set_ylim((-1.25, 1.25))\n",
    "ax1.set_title(\"Модулирующая ZC-последовательность\")\n",
    "\n",
    "ax2.plot(range(l*10), [np.angle(ZC_ort[i//10])/np.pi for i in range(150)])\n",
    "ax2.set_ylim((-1.25, 1.25))\n",
    "ax2.set_title(\"Модулирующия ортогональная ZC-последовательность\")"
   ]
  },
  {
   "cell_type": "code",
   "execution_count": null,
   "metadata": {},
   "outputs": [
    {
     "ename": "",
     "evalue": "",
     "output_type": "error",
     "traceback": [
      "\u001b[1;31mДля выполнения ячеек с \"c:\\Users\\i.kalayda\\Documents\\rls-control\\.conda\\python.exe\" требуется пакет ipykernel.\n",
      "\u001b[1;31mВыполните следующую команду, чтобы установить \"ipykernel\" в среде Python. \n",
      "\u001b[1;31mКоманда: \"conda install -p c:\\Users\\i.kalayda\\Documents\\rls-control\\.conda ipykernel --update-deps --force-reinstall\""
     ]
    }
   ],
   "source": [
    "# ФКМ сформированный ZC-последовательностью\n",
    "\n",
    "ZC_signal = np.zeros(len(t_one), dtype=np.complex_)\n",
    "\n",
    "for i in range(len(t_one)):\n",
    "    ZC_signal[i] = ZC[i//n_t_sim]\n",
    "\n",
    "ZC_angle = np.angle(ZC_signal)\n",
    "\n",
    "FKM_ZC = np.sin(2*np.pi*F_prom*t_one + ZC_angle) + 1j*np.cos(2*np.pi*F_prom*t_one + ZC_angle)\n",
    "\n",
    "print(len(FKM_ZC))"
   ]
  },
  {
   "cell_type": "code",
   "execution_count": null,
   "metadata": {},
   "outputs": [
    {
     "ename": "",
     "evalue": "",
     "output_type": "error",
     "traceback": [
      "\u001b[1;31mДля выполнения ячеек с \"c:\\Users\\i.kalayda\\Documents\\rls-control\\.conda\\python.exe\" требуется пакет ipykernel.\n",
      "\u001b[1;31mВыполните следующую команду, чтобы установить \"ipykernel\" в среде Python. \n",
      "\u001b[1;31mКоманда: \"conda install -p c:\\Users\\i.kalayda\\Documents\\rls-control\\.conda ipykernel --update-deps --force-reinstall\""
     ]
    }
   ],
   "source": [
    "# ФКМ сформированный ортогональной ZC-последовательностью\n",
    "\n",
    "ZC_signal_ort = np.zeros(len(t_one), dtype=np.complex_)\n",
    "\n",
    "for i in range(len(t_one)):\n",
    "    ZC_signal_ort[i] = ZC_ort[i//n_t_sim]\n",
    "\n",
    "ZC_angle_ort = np.angle(ZC_signal_ort)\n",
    "\n",
    "FKM_ZC_ort = np.sin(2*np.pi*F_prom*t_one + ZC_angle_ort) + 1j*np.cos(2*np.pi*F_prom*t_one + ZC_angle_ort)\n",
    "\n",
    "print(len(FKM_ZC_ort))"
   ]
  },
  {
   "cell_type": "code",
   "execution_count": null,
   "metadata": {},
   "outputs": [
    {
     "ename": "",
     "evalue": "",
     "output_type": "error",
     "traceback": [
      "\u001b[1;31mДля выполнения ячеек с \"c:\\Users\\i.kalayda\\Documents\\rls-control\\.conda\\python.exe\" требуется пакет ipykernel.\n",
      "\u001b[1;31mВыполните следующую команду, чтобы установить \"ipykernel\" в среде Python. \n",
      "\u001b[1;31mКоманда: \"conda install -p c:\\Users\\i.kalayda\\Documents\\rls-control\\.conda ipykernel --update-deps --force-reinstall\""
     ]
    }
   ],
   "source": [
    "FKM_ZC_n = np.zeros(len(t_pach), dtype=np.complex_)\n",
    "\n",
    "n_transmit = int(len(t_pach)//(T_p//td))\n",
    "\n",
    "for n in np.arange(n_transmit):\n",
    "    if np.divmod(n, N)[1] == 0:\n",
    "        FKM_ZC_n[int(T_p//td)*n:(int(T_p//td)*n+len(FKM_ZC))] = FKM_ZC\n",
    "    else:\n",
    "        FKM_ZC_n[int(T_p//td)*n:(int(T_p//td)*n+len(FKM_ZC_ort))] = FKM_ZC_ort\n",
    "\n",
    "plt.figure().set_figwidth(20)\n",
    "plt.plot(t_pach, FKM_ZC_n.real)\n",
    "plt.show()"
   ]
  },
  {
   "attachments": {},
   "cell_type": "markdown",
   "metadata": {},
   "source": [
    "### Вернувшийся сигнал"
   ]
  },
  {
   "cell_type": "code",
   "execution_count": null,
   "metadata": {},
   "outputs": [
    {
     "ename": "",
     "evalue": "",
     "output_type": "error",
     "traceback": [
      "\u001b[1;31mДля выполнения ячеек с \"c:\\Users\\i.kalayda\\Documents\\rls-control\\.conda\\python.exe\" требуется пакет ipykernel.\n",
      "\u001b[1;31mВыполните следующую команду, чтобы установить \"ipykernel\" в среде Python. \n",
      "\u001b[1;31mКоманда: \"conda install -p c:\\Users\\i.kalayda\\Documents\\rls-control\\.conda ipykernel --update-deps --force-reinstall\""
     ]
    }
   ],
   "source": [
    "# вернувшийся ФКМ сформированный ZC-последовательностью\n",
    "\n",
    "ZC_signal = np.zeros(len(t_one), dtype=np.complex_)\n",
    "\n",
    "for i in range(len(t_one)):\n",
    "    ZC_signal[i] = ZC[i//n_t_sim]\n",
    "\n",
    "ZC_angle = np.angle(ZC_signal)\n",
    "\n",
    "FKM_ZC_return = np.sin(2*np.pi*(F_prom+f_sm)*t_one + ZC_angle) + 1j*np.cos(2*np.pi*(F_prom+f_sm)*t_one + ZC_angle)\n",
    "\n",
    "print(len(FKM_ZC))"
   ]
  },
  {
   "cell_type": "code",
   "execution_count": null,
   "metadata": {},
   "outputs": [
    {
     "ename": "",
     "evalue": "",
     "output_type": "error",
     "traceback": [
      "\u001b[1;31mДля выполнения ячеек с \"c:\\Users\\i.kalayda\\Documents\\rls-control\\.conda\\python.exe\" требуется пакет ipykernel.\n",
      "\u001b[1;31mВыполните следующую команду, чтобы установить \"ipykernel\" в среде Python. \n",
      "\u001b[1;31mКоманда: \"conda install -p c:\\Users\\i.kalayda\\Documents\\rls-control\\.conda ipykernel --update-deps --force-reinstall\""
     ]
    }
   ],
   "source": [
    "# вернувшийся ФКМ сформированный ортогональной ZC-последовательностью\n",
    "\n",
    "ZC_signal_ort = np.zeros(len(t_one), dtype=np.complex_)\n",
    "\n",
    "for row_index in range(len(t_one)):\n",
    "    ZC_signal_ort[row_index] = ZC_ort[row_index//n_t_sim]\n",
    "\n",
    "ZC_angle_ort = np.angle(ZC_signal_ort)\n",
    "\n",
    "FKM_ZC_ort_return = np.sin(2*np.pi*(F_prom+f_sm)*t_one + ZC_angle_ort) + 1j*np.cos(2*np.pi*(F_prom+f_sm)*t_one + ZC_angle_ort)\n",
    "\n",
    "print(len(FKM_ZC_ort))"
   ]
  },
  {
   "cell_type": "code",
   "execution_count": null,
   "metadata": {},
   "outputs": [
    {
     "ename": "",
     "evalue": "",
     "output_type": "error",
     "traceback": [
      "\u001b[1;31mДля выполнения ячеек с \"c:\\Users\\i.kalayda\\Documents\\rls-control\\.conda\\python.exe\" требуется пакет ipykernel.\n",
      "\u001b[1;31mВыполните следующую команду, чтобы установить \"ipykernel\" в среде Python. \n",
      "\u001b[1;31mКоманда: \"conda install -p c:\\Users\\i.kalayda\\Documents\\rls-control\\.conda ipykernel --update-deps --force-reinstall\""
     ]
    }
   ],
   "source": [
    "# шумы\n",
    "\n",
    "noise_complex = np.random.normal(size=len(t_pach))*np.exp(-1j*2*np.pi*np.random.randn(len(t_pach)))\n",
    "noise_complex = sigma_noise*noise_complex/(max(noise_complex.real) + 1j*max(noise_complex.imag))"
   ]
  },
  {
   "cell_type": "code",
   "execution_count": null,
   "metadata": {},
   "outputs": [
    {
     "ename": "",
     "evalue": "",
     "output_type": "error",
     "traceback": [
      "\u001b[1;31mДля выполнения ячеек с \"c:\\Users\\i.kalayda\\Documents\\rls-control\\.conda\\python.exe\" требуется пакет ipykernel.\n",
      "\u001b[1;31mВыполните следующую команду, чтобы установить \"ipykernel\" в среде Python. \n",
      "\u001b[1;31mКоманда: \"conda install -p c:\\Users\\i.kalayda\\Documents\\rls-control\\.conda ipykernel --update-deps --force-reinstall\""
     ]
    }
   ],
   "source": [
    "# вернувшаяся пачка ФКМ\n",
    "\n",
    "FKM_ZC_n_return = np.zeros(len(t_pach), dtype=np.complex_)\n",
    "\n",
    "n_transmit = int((len(t_pach) - (t_z//td))//(T_p//td))\n",
    "\n",
    "for n in np.arange(n_transmit):\n",
    "\n",
    "    if np.divmod(n, N)[1] == 0:\n",
    "        FKM_ZC_return = np.sin(2*np.pi*(F_prom+f_sm)*(t_one + T_p*n) + ZC_angle) + 1j*np.cos(2*np.pi*(F_prom+f_sm)*(t_one + T_p*n) + ZC_angle)\n",
    "        FKM_ZC_n_return[int(t_z//td) + int(T_p//td)*n:int(t_z//td) + (int(T_p//td)*n+len(FKM_ZC_return))] = FKM_ZC_return\n",
    "    else:\n",
    "        FKM_ZC_ort_return = np.sin(2*np.pi*(F_prom+f_sm)*(t_one + T_p*n) + ZC_angle_ort) + 1j*np.cos(2*np.pi*(F_prom+f_sm)*(t_one + T_p*n) + ZC_angle_ort)\n",
    "        FKM_ZC_n_return[int(t_z//td) + int(T_p//td)*n:int(t_z//td) + (int(T_p//td)*n+len(FKM_ZC_ort_return))] = FKM_ZC_ort_return\n",
    "\n",
    "len_last = len(t_pach) - (n_transmit*int(T_p//td) + int(t_z//td))\n",
    "\n",
    "if len_last >= len(FKM_ZC):\n",
    "\n",
    "    if np.divmod(n_transmit, N)[1] == 0:\n",
    "        FKM_ZC_return = np.sin(2*np.pi*(F_prom+f_sm)*(t_one + T_p*(n_transmit)) + ZC_angle) + 1j*np.cos(2*np.pi*(F_prom+f_sm)*(t_one + T_p*(n_transmit)) + ZC_angle)\n",
    "        FKM_ZC_n_return[n_transmit*int(T_p//td) + int(t_z//td):n_transmit*int(T_p//td) + int(t_z//td) + len(FKM_ZC)] = FKM_ZC_return\n",
    "    else:\n",
    "        FKM_ZC_ort_return = np.sin(2*np.pi*(F_prom+f_sm)*(t_one + T_p*(n_transmit)) + ZC_angle_ort) + 1j*np.cos(2*np.pi*(F_prom+f_sm)*(t_one + T_p*(n_transmit)) + ZC_angle_ort)\n",
    "        FKM_ZC_n_return[n_transmit*int(T_p//td) + int(t_z//td):n_transmit*int(T_p//td) + int(t_z//td) + len(FKM_ZC)] = FKM_ZC_ort_return\n",
    "else:\n",
    "\n",
    "    if np.divmod(n_transmit, N)[1] == 0:\n",
    "        FKM_ZC_return = np.sin(2*np.pi*(F_prom+f_sm)*(t_one + T_p*(n_transmit)) + ZC_angle) + 1j*np.cos(2*np.pi*(F_prom+f_sm)*(t_one + T_p*(n_transmit)) + ZC_angle)\n",
    "        FKM_ZC_n_return[n_transmit*int(T_p//td) + int(t_z//td):] = FKM_ZC_return[:len_last]\n",
    "    else:\n",
    "        FKM_ZC_ort_return = np.sin(2*np.pi*(F_prom+f_sm)*(t_one + T_p*(n_transmit)) + ZC_angle_ort) + 1j*np.cos(2*np.pi*(F_prom+f_sm)*(t_one + T_p*(n_transmit)) + ZC_angle_ort)\n",
    "        FKM_ZC_n_return[n_transmit*int(T_p//td) + int(t_z//td):] = FKM_ZC_ort_return[:len_last]\n",
    "\n",
    "FKM_ZC_n_return = np.array([FKM_ZC_n_return[i] if FKM_ZC_n[i] == (0.0 + 1j*0.0) else (0.0 + 1j*0.0) for i in np.arange(len(FKM_ZC_n))])\n",
    "\n",
    "FKM_ZC_n_return = FKM_ZC_n_return + noise_complex\n",
    "\n",
    "plt.figure().set_figwidth(20)\n",
    "plt.plot(t_pach, FKM_ZC_n_return.real, \"tab:orange\")\n",
    "plt.show()\n",
    "\n",
    "plt.figure().set_figwidth(20)\n",
    "plt.plot(t_pach, FKM_ZC_n_return.real, \"tab:orange\")\n",
    "plt.xlim((0.66e-5, 0.68e-5))\n",
    "plt.show()\n",
    "\n",
    "plt.figure().set_figwidth(20)\n",
    "plt.plot(t_pach, FKM_ZC_n_return.real, \"tab:orange\")\n",
    "plt.xlim((2.025e-5, 2.05e-5))\n",
    "plt.show()"
   ]
  },
  {
   "attachments": {},
   "cell_type": "markdown",
   "metadata": {},
   "source": [
    "### Корреляции"
   ]
  },
  {
   "cell_type": "code",
   "execution_count": null,
   "metadata": {},
   "outputs": [
    {
     "ename": "",
     "evalue": "",
     "output_type": "error",
     "traceback": [
      "\u001b[1;31mДля выполнения ячеек с \"c:\\Users\\i.kalayda\\Documents\\rls-control\\.conda\\python.exe\" требуется пакет ipykernel.\n",
      "\u001b[1;31mВыполните следующую команду, чтобы установить \"ipykernel\" в среде Python. \n",
      "\u001b[1;31mКоманда: \"conda install -p c:\\Users\\i.kalayda\\Documents\\rls-control\\.conda ipykernel --update-deps --force-reinstall\""
     ]
    }
   ],
   "source": [
    "# lines = (FKM_ZC_n_return[x:x+len(FKM_ZC)] for x in np.arange(0, len(FKM_ZC_n_return) - len(FKM_ZC)))\n",
    "\n",
    "ZC_corr_func = np.zeros(len(FKM_ZC_n), dtype=np.complex_)\n",
    "ZC_ort_corr_func = np.zeros(len(FKM_ZC_n), dtype=np.complex_)\n",
    "\n",
    "for x in np.arange(0, len(FKM_ZC_n_return) - len(FKM_ZC)):\n",
    "    ZC_corr_func[x] = np.sum( FKM_ZC_n_return[ x : x + len(FKM_ZC) ] * np.conj( FKM_ZC ) )\n",
    "    ZC_ort_corr_func[x] = np.sum( FKM_ZC_n_return[ x : x + len(FKM_ZC_ort) ] * np.conj( FKM_ZC_ort ) )\n",
    "\n",
    "\n",
    "# @ray.remote\n",
    "# def thread_Corr(FKM_ZC_n_return, FKM_ZC, FKM_ZC_ort, sm = 0, dx = 1):\n",
    "\n",
    "#     ZC_corr_func = np.zeros(len(FKM_ZC_n_return), dtype=np.complex_)\n",
    "#     ZC_ort_corr_func = np.zeros(len(FKM_ZC_n_return), dtype=np.complex_)\n",
    "\n",
    "#     for x in np.arange(0 + sm, len(FKM_ZC_n_return) - len(FKM_ZC), dx):\n",
    "#         FKM_ZC_corr = sp.signal.correlate(FKM_ZC, FKM_ZC_n_return[x:x+len(FKM_ZC)])\n",
    "#         FKM_ZC_ort_corr = sp.signal.correlate(FKM_ZC_ort, FKM_ZC_n_return[x:x+len(FKM_ZC)])\n",
    "\n",
    "#         ZC_corr_func[x] = max(FKM_ZC_corr)\n",
    "#         ZC_ort_corr_func[x] = max(FKM_ZC_ort_corr)\n",
    "\n",
    "#     return ZC_corr_func, ZC_ort_corr_func\n",
    "\n",
    "# id_0 = thread_Corr.remote(FKM_ZC_n_return, FKM_ZC, FKM_ZC_ort, sm = 0, dx = 6)\n",
    "# id_1 = thread_Corr.remote(FKM_ZC_n_return, FKM_ZC, FKM_ZC_ort, sm = 1, dx = 6)\n",
    "# id_2 = thread_Corr.remote(FKM_ZC_n_return, FKM_ZC, FKM_ZC_ort, sm = 2, dx = 6)\n",
    "# id_3 = thread_Corr.remote(FKM_ZC_n_return, FKM_ZC, FKM_ZC_ort, sm = 3, dx = 6)\n",
    "# id_4 = thread_Corr.remote(FKM_ZC_n_return, FKM_ZC, FKM_ZC_ort, sm = 4, dx = 6)\n",
    "# id_5 = thread_Corr.remote(FKM_ZC_n_return, FKM_ZC, FKM_ZC_ort, sm = 5, dx = 6)\n",
    "\n",
    "# ZC_corr_func = ray.get(id_0)[0] + ray.get(id_1)[0] + ray.get(id_2)[0] + ray.get(id_3)[0] + ray.get(id_4)[0] + ray.get(id_5)[0]\n",
    "# ZC_ort_corr_func = ray.get(id_0)[1] + ray.get(id_1)[1] + ray.get(id_2)[1] + ray.get(id_3)[1] + ray.get(id_4)[1] + ray.get(id_5)[1]\n",
    "\n",
    "# ray.shutdown()\n"
   ]
  },
  {
   "cell_type": "code",
   "execution_count": null,
   "metadata": {},
   "outputs": [
    {
     "ename": "",
     "evalue": "",
     "output_type": "error",
     "traceback": [
      "\u001b[1;31mДля выполнения ячеек с \"c:\\Users\\i.kalayda\\Documents\\rls-control\\.conda\\python.exe\" требуется пакет ipykernel.\n",
      "\u001b[1;31mВыполните следующую команду, чтобы установить \"ipykernel\" в среде Python. \n",
      "\u001b[1;31mКоманда: \"conda install -p c:\\Users\\i.kalayda\\Documents\\rls-control\\.conda ipykernel --update-deps --force-reinstall\""
     ]
    }
   ],
   "source": [
    "fig, (ax1, ax2) = plt.subplots(2)\n",
    "fig.set_figwidth(20)\n",
    "fig.set_figheight(10)\n",
    "\n",
    "ax1.plot(t_pach, ZC_corr_func.real, \"tab:green\")\n",
    "ax2.plot(t_pach, ZC_ort_corr_func.real, \"tab:cyan\")\n",
    "\n",
    "# ax1.plot([(195+95)*dt_z for i in range(0, 1000, 100)], range(0, 1000, 100))"
   ]
  },
  {
   "attachments": {},
   "cell_type": "markdown",
   "metadata": {},
   "source": [
    "### Сборка корреляций в столбцы по периодам"
   ]
  },
  {
   "cell_type": "code",
   "execution_count": null,
   "metadata": {},
   "outputs": [
    {
     "ename": "",
     "evalue": "",
     "output_type": "error",
     "traceback": [
      "\u001b[1;31mДля выполнения ячеек с \"c:\\Users\\i.kalayda\\Documents\\rls-control\\.conda\\python.exe\" требуется пакет ipykernel.\n",
      "\u001b[1;31mВыполните следующую команду, чтобы установить \"ipykernel\" в среде Python. \n",
      "\u001b[1;31mКоманда: \"conda install -p c:\\Users\\i.kalayda\\Documents\\rls-control\\.conda ipykernel --update-deps --force-reinstall\""
     ]
    }
   ],
   "source": [
    "Corr_Matrix_1 = np.zeros( ( int( len( t_pach ) // int( T_p // td ) ), int( T_p // td ) ), np.complex_ )         # Случай приема всех 5 импульсов обратно, соответственно собираю все 5 поочередно с первого вернувшегося (с зеленого)\n",
    "Corr_Matrix_2 = np.zeros( ( int( len( t_pach ) // int( T_p // td ) ) - 1, int( T_p // td ) ), np.complex_ )     # Сулчай приема только 4 вернувшихся импульсов, соответственно собираю 4 также поочередно с первого вернувшегося (тоже с зеленого)\n",
    "\n",
    "for row_index in np.arange( int( len( t_pach ) // int( T_p // td ) ) ):\n",
    "    if row_index == 0:\n",
    "            Corr_Matrix_1[row_index] = ZC_corr_func[ row_index * int( T_p // td ) : ( row_index + 1 ) * int( T_p // td ) ]\n",
    "\n",
    "    else:\n",
    "        if np.divmod(row_index, N)[1] == 0: # Миша, это просто mod() = np.divmod()[1]!\n",
    "            Corr_Matrix_1[row_index] = ZC_corr_func[ row_index * int( T_p // td ) : ( row_index + 1 ) * int( T_p // td ) ]       \n",
    "\n",
    "        else:\n",
    "            Corr_Matrix_1[row_index] = ZC_ort_corr_func[ row_index * int( T_p // td ) : ( row_index + 1 ) * int( T_p // td ) ]\n",
    "\n",
    "\n",
    "\n",
    "        if np.divmod(row_index - 1, N)[1] == 0:\n",
    "            Corr_Matrix_2[row_index - 1] = ZC_corr_func[ row_index * int( T_p // td ) : ( row_index + 1 ) * int( T_p // td ) ]\n",
    "\n",
    "        else:\n",
    "            Corr_Matrix_2[row_index - 1] = ZC_ort_corr_func[ row_index * int( T_p // td ) : ( row_index + 1 ) * int( T_p // td ) ]\n",
    "\n",
    "maximum_level_1 = np.amax( Corr_Matrix_1 )\n",
    "maximum_level_2 = np.amax( Corr_Matrix_2 )\n",
    "abs_maximum_level = np.amax( ( maximum_level_1, maximum_level_2 ) )\n",
    "\n",
    "print(\"Абсолютный максимум среди корреляций:\", abs_maximum_level )\n",
    "\n",
    "fig1, ax1 = plt.subplots( int( len( t_pach ) // int( T_p // td ) ), 2 )\n",
    "\n",
    "fig1.set_figheight(3 * len(ax1))\n",
    "fig1.set_figwidth(15)\n",
    "\n",
    "for i in range(len(ax1)):\n",
    "    Corr_Matrix_1[i] = Corr_Matrix_1[i] / abs_maximum_level\n",
    "    ax1[i][0].plot(range(len(Corr_Matrix_1[i])), Corr_Matrix_1[i].real )\n",
    "\n",
    "    if i < len(ax1) - 1:\n",
    "        Corr_Matrix_2[i] = Corr_Matrix_2[i] / abs_maximum_level\n",
    "        ax1[i][1].plot(range(len(Corr_Matrix_2[i])), Corr_Matrix_2[i].real )\n",
    "\n",
    "    ax1[i][0].set_ylim((-1.2, 1.2))\n",
    "    ax1[i][1].set_ylim((-1.2, 1.2))"
   ]
  },
  {
   "attachments": {},
   "cell_type": "markdown",
   "metadata": {},
   "source": [
    "### Децимация матриц по дальности (времени)"
   ]
  },
  {
   "cell_type": "code",
   "execution_count": null,
   "metadata": {},
   "outputs": [
    {
     "ename": "",
     "evalue": "",
     "output_type": "error",
     "traceback": [
      "\u001b[1;31mДля выполнения ячеек с \"c:\\Users\\i.kalayda\\Documents\\rls-control\\.conda\\python.exe\" требуется пакет ipykernel.\n",
      "\u001b[1;31mВыполните следующую команду, чтобы установить \"ipykernel\" в среде Python. \n",
      "\u001b[1;31mКоманда: \"conda install -p c:\\Users\\i.kalayda\\Documents\\rls-control\\.conda ipykernel --update-deps --force-reinstall\""
     ]
    }
   ],
   "source": [
    "dR_Matrix_1 = np.zeros( ( len(Corr_Matrix_1), int( T_p // td ) // int( dt_z // td ) ), np.complex_ )\n",
    "dR_Matrix_2 = np.zeros( ( len(Corr_Matrix_2), int( T_p // td ) // int( dt_z // td ) ), np.complex_ )\n",
    "\n",
    "ratio = len(Corr_Matrix_1[0])//len(dR_Matrix_1[0])\n",
    "# smeshen = 10000\n",
    "\n",
    "print(\"Отношение размеров корреляционной и матрицы по каналам: \", ratio)\n",
    "\n",
    "for row_index in np.arange( len( dR_Matrix_1 ) ):\n",
    "    if row_index == 0:\n",
    "            dR_Matrix_1[row_index] = [ np.sum( Corr_Matrix_1[ row_index ][ col_index * ratio : (col_index+1) * ratio ] \\\n",
    "                * np.exp( -1j * 2 * np.pi * F_prom * (td * np.abs( col_index * ratio - np.arange( col_index * ratio, (col_index+1) * ratio ) ) + T_p * row_index ) ) \\\n",
    "                    ) for col_index in np.arange( len( dR_Matrix_1[ row_index ] ) ) ]\n",
    "\n",
    "    else:\n",
    "        dR_Matrix_1[row_index] = [ np.sum( Corr_Matrix_1[ row_index ][ col_index * ratio : (col_index+1) * ratio ] \\\n",
    "                * np.exp( -1j * 2 * np.pi * F_prom * (td * np.abs( col_index * ratio - np.arange( col_index * ratio, (col_index+1) * ratio ) ) + T_p * row_index ) ) \\\n",
    "                    ) for col_index in np.arange( len( dR_Matrix_1[ row_index ] ) ) ]\n",
    "\n",
    "        dR_Matrix_2[row_index - 1] = [ np.sum( Corr_Matrix_2[ row_index - 1 ][ col_index * ratio : (col_index+1) * ratio ] \\\n",
    "                * np.exp( -1j * 2 * np.pi * F_prom * (td * np.abs( col_index * ratio - np.arange( col_index * ratio, (col_index+1) * ratio ) ) + T_p * row_index ) ) \\\n",
    "                    ) for col_index in np.arange( len( dR_Matrix_2[ row_index - 1 ] ) ) ]\n",
    "\n",
    "# print(len(Corr_Matrix_1[0]))\n",
    "# print(Corr_Matrix_1[0, smeshen:smeshen+ratio])\n",
    "\n",
    "# plt.plot(Corr_Matrix_1[0, smeshen:smeshen+ratio].real, Corr_Matrix_1[0, smeshen:smeshen+ratio].imag, \"bo\")\n",
    "# plt.show()\n",
    "\n",
    "# Corr_Matrix_1[0, smeshen:smeshen+ratio] = Corr_Matrix_1[0, smeshen:smeshen+ratio] * np.exp(-1j * 2 * np.pi * F_prom * td * (0 - np.arange(smeshen,smeshen+ratio)))\n",
    "# # Corr_Matrix_1[1, 0:20] = Corr_Matrix_1[1, 0:20] * np.exp(-1j * 2 * np.pi * F_prom * td * (0 - np.arange(0,20)))\n",
    "# # Corr_Matrix_1[2, 0:20] = Corr_Matrix_1[2, 0:20] * np.exp(-1j * 2 * np.pi * F_prom * td * (0 - np.arange(0,20)))\n",
    "# # Corr_Matrix_1[3, 0:20] = Corr_Matrix_1[3, 0:20] * np.exp(-1j * 2 * np.pi * F_prom * td * (0 - np.arange(0,20)))\n",
    "# # Corr_Matrix_1[4, 0:20] = Corr_Matrix_1[4, 0:20] * np.exp(-1j * 2 * np.pi * F_prom * td * (0 - np.arange(0,20)))\n",
    "\n",
    "# # print(len(Corr_Matrix_1[0]))\n",
    "# # print(Corr_Matrix_1[0, smeshen:smeshen+ratio])\n",
    "\n",
    "# plt.plot(Corr_Matrix_1[0, smeshen:smeshen+ratio].real, Corr_Matrix_1[0, smeshen:smeshen+ratio].imag, \"bo\")\n",
    "# plt.show()\n"
   ]
  },
  {
   "cell_type": "code",
   "execution_count": null,
   "metadata": {},
   "outputs": [
    {
     "ename": "",
     "evalue": "",
     "output_type": "error",
     "traceback": [
      "\u001b[1;31mДля выполнения ячеек с \"c:\\Users\\i.kalayda\\Documents\\rls-control\\.conda\\python.exe\" требуется пакет ipykernel.\n",
      "\u001b[1;31mВыполните следующую команду, чтобы установить \"ipykernel\" в среде Python. \n",
      "\u001b[1;31mКоманда: \"conda install -p c:\\Users\\i.kalayda\\Documents\\rls-control\\.conda ipykernel --update-deps --force-reinstall\""
     ]
    }
   ],
   "source": [
    "maximum_level_1 = np.amax( np.abs(dR_Matrix_1) )\n",
    "maximum_level_2 = np.amax( np.abs(dR_Matrix_2) )\n",
    "abs_maximum_level = np.amax( ( maximum_level_1, maximum_level_2 ) )\n",
    "\n",
    "print(\"Абсолютный максимум каналов дальности (задержки):\", abs_maximum_level )\n",
    "\n",
    "fig1, ax1 = plt.subplots( len( dR_Matrix_1 ), 2 )\n",
    "\n",
    "fig1.set_figheight(3 * len(ax1))\n",
    "fig1.set_figwidth(15)\n",
    "\n",
    "for i in range(len(ax1)):\n",
    "    dR_Matrix_1[i] = dR_Matrix_1[i]/abs_maximum_level\n",
    "    # ax1[i][0].plot(range(len(dR_Matrix_1[i])), dR_Matrix_1[i].real )\n",
    "    ax1[i][0].plot(range(len(dR_Matrix_1[i])), np.abs(dR_Matrix_1[i]) )\n",
    "\n",
    "    if i < len(ax1) - 1:\n",
    "        dR_Matrix_2[i] = dR_Matrix_2[i]/abs_maximum_level\n",
    "        ax1[i][1].plot(range(len(dR_Matrix_2[i])), np.abs(dR_Matrix_2[i]) )\n",
    "\n",
    "    ax1[i][0].set_ylim((0, 1.2))\n",
    "    ax1[i][1].set_ylim((0, 1.2))"
   ]
  },
  {
   "attachments": {},
   "cell_type": "markdown",
   "metadata": {},
   "source": [
    "### FFT по столбцам (переходим к каналам по частоте-скорости)"
   ]
  },
  {
   "cell_type": "code",
   "execution_count": null,
   "metadata": {},
   "outputs": [
    {
     "ename": "",
     "evalue": "",
     "output_type": "error",
     "traceback": [
      "\u001b[1;31mДля выполнения ячеек с \"c:\\Users\\i.kalayda\\Documents\\rls-control\\.conda\\python.exe\" требуется пакет ipykernel.\n",
      "\u001b[1;31mВыполните следующую команду, чтобы установить \"ipykernel\" в среде Python. \n",
      "\u001b[1;31mКоманда: \"conda install -p c:\\Users\\i.kalayda\\Documents\\rls-control\\.conda ipykernel --update-deps --force-reinstall\""
     ]
    }
   ],
   "source": [
    "dRF_Matrix_1 = np.copy(dR_Matrix_1)\n",
    "dRF_Matrix_2 = np.copy(dR_Matrix_2)\n",
    "\n",
    "# ---------------------------------------------------------------------------------------------\n",
    "\n",
    "# весовое окно по частоте\n",
    "\n",
    "window_1 = 1 - 0.8 * np.cos(2*np.pi*(np.arange(len( dRF_Matrix_1 ))+0.5)/len( dRF_Matrix_1 ))\n",
    "window_2 = 1 - 0.8 * np.cos(2*np.pi*(np.arange(len( dRF_Matrix_2 ))+0.5)/len( dRF_Matrix_2 ))\n",
    "\n",
    "plt.figure().set_figwidth(20)\n",
    "plt.plot(window_1, \"bo\")\n",
    "plt.plot(window_2, \"ro\")\n",
    "plt.show()\n",
    "\n",
    "# for col_index in np.arange( len( dRF_Matrix_1[0] ) ):\n",
    "#     dRF_Matrix_1[ : , col_index] = dRF_Matrix_1[ : , col_index] * window_1\n",
    "#     dRF_Matrix_2[ : , col_index] = dRF_Matrix_2[ : , col_index] * window_2\n",
    "\n",
    "# ---------------------------------------------------------------------------------------------\n",
    "\n",
    "for col_index in np.arange( len( dRF_Matrix_1[0] ) ):\n",
    "    dRF_Matrix_1[ : , col_index] = sp.fft.fft( dRF_Matrix_1[ : , col_index] )\n",
    "    dRF_Matrix_2[ : , col_index] = sp.fft.fft( dRF_Matrix_2[ : , col_index] )\n",
    "\n",
    "maximum_level_1 = np.amax( np.abs(dRF_Matrix_1) )\n",
    "maximum_level_2 = np.amax( np.abs(dRF_Matrix_2) )\n",
    "abs_maximum_level = np.amax( ( maximum_level_1, maximum_level_2 ) )\n",
    "\n",
    "print(\"Абсолютный максимум каналов дальности (задержки):\", abs_maximum_level )\n",
    "\n",
    "dRF_Matrix_1 = dRF_Matrix_1/abs_maximum_level\n",
    "dRF_Matrix_2 = dRF_Matrix_2/abs_maximum_level\n",
    "\n",
    "fig1, ax1 = plt.subplots(subplot_kw={\"projection\": \"3d\"})\n",
    "\n",
    "fig1.set_figheight(8)\n",
    "fig1.set_figwidth(8)\n",
    "\n",
    "# Make data.\n",
    "X1 = np.arange(0, len(dRF_Matrix_1[0]))\n",
    "Y1 = np.arange(0, len(dRF_Matrix_1))\n",
    "X1, Y1 = np.meshgrid(X1, Y1)\n",
    "Z1 = np.abs(dRF_Matrix_1)\n",
    "\n",
    "# Plot the surface.\n",
    "surf1 = ax1.plot_surface(X1, Y1, Z1, cmap=cm.coolwarm,\n",
    "                       linewidth=0, antialiased=False)\n",
    "\n",
    "ax1.zaxis.set_major_locator(LinearLocator(13))\n",
    "ax1.zaxis.set_major_formatter('{x:.1f}')\n",
    "ax1.set_zlim((-0.2, 1.2))\n",
    "\n",
    "ax1.xaxis.set_major_locator(LinearLocator(6))\n",
    "ax1.xaxis.set_major_formatter(ticker.ScalarFormatter(useMathText=True))\n",
    "ax1.set_xlim((0, 195))\n",
    "ax1.set_xlabel(\"Каналы по дальности, dR\")\n",
    "\n",
    "ax1.yaxis.set_major_locator(LinearLocator(6))\n",
    "ax1.yaxis.set_major_formatter(ticker.ScalarFormatter(useMathText=True))\n",
    "ax1.set_ylim((0, 5))\n",
    "ax1.set_ylabel(\"Каналы по скорости, dV\")\n",
    "\n",
    "# Add a color bar which maps values to colors.\n",
    "# fig1.colorbar(surf1, shrink=0.5, aspect=5)\n",
    "\n",
    "\n",
    "fig2, ax2 = plt.subplots(subplot_kw={\"projection\": \"3d\"})\n",
    "\n",
    "fig2.set_figheight(8)\n",
    "fig2.set_figwidth(8)\n",
    "\n",
    "# Make data.\n",
    "X2 = np.arange(0, len(dRF_Matrix_2[0]))\n",
    "Y2 = np.arange(0, len(dRF_Matrix_2))\n",
    "X2, Y2 = np.meshgrid(X2, Y2)\n",
    "Z2 = np.abs(dRF_Matrix_2)\n",
    "\n",
    "# Plot the surface.\n",
    "surf2 = ax2.plot_surface(X2, Y2, Z2, cmap=cm.coolwarm,\n",
    "                       linewidth=0, antialiased=False)\n",
    "\n",
    "ax2.zaxis.set_major_locator(LinearLocator(13))\n",
    "ax2.zaxis.set_major_formatter('{x:.1f}')\n",
    "ax2.set_zlim((-0.2, 1.2))\n",
    "\n",
    "ax2.xaxis.set_major_locator(LinearLocator(6))\n",
    "ax2.xaxis.set_major_formatter(ticker.ScalarFormatter(useMathText=True))\n",
    "ax2.set_xlim((0, 195))\n",
    "ax2.set_xlabel(\"Каналы по дальности, dR\")\n",
    "\n",
    "ax2.yaxis.set_major_locator(LinearLocator(5))\n",
    "ax2.yaxis.set_major_formatter(ticker.ScalarFormatter(useMathText=True))\n",
    "ax2.set_ylim((0, 4))\n",
    "ax2.set_ylabel(\"Каналы по скорости, dV\")\n",
    "\n",
    "# Add a color bar which maps values to colors.\n",
    "# fig2.colorbar(surf2, shrink=0.5, aspect=5)"
   ]
  },
  {
   "cell_type": "code",
   "execution_count": null,
   "metadata": {},
   "outputs": [
    {
     "ename": "",
     "evalue": "",
     "output_type": "error",
     "traceback": [
      "\u001b[1;31mДля выполнения ячеек с \"c:\\Users\\i.kalayda\\Documents\\rls-control\\.conda\\python.exe\" требуется пакет ipykernel.\n",
      "\u001b[1;31mВыполните следующую команду, чтобы установить \"ipykernel\" в среде Python. \n",
      "\u001b[1;31mКоманда: \"conda install -p c:\\Users\\i.kalayda\\Documents\\rls-control\\.conda ipykernel --update-deps --force-reinstall\""
     ]
    }
   ],
   "source": [
    "max_R_1 = []\n",
    "for i in range(len(dRF_Matrix_1)):\n",
    "    max_R_1.append([np.argmax( np.abs( dRF_Matrix_1[i] ) ),  np.abs(dRF_Matrix_1[i, np.argmax( np.abs( dRF_Matrix_1[i] ) )])])\n",
    "\n",
    "max_R_1 = np.array(max_R_1)\n",
    "\n",
    "max_RV_1 = np.argmax(max_R_1[:, 1])\n",
    "\n",
    "print(max_RV_1)\n",
    "print(max_R_1[max_RV_1][0])\n",
    "print(\"\\n\")\n",
    "\n",
    "max_R_2 = []\n",
    "for i in range(len(dRF_Matrix_2)):\n",
    "    max_R_2.append([np.argmax( np.abs( dRF_Matrix_2[i] ) ),  np.abs(dRF_Matrix_2[i, np.argmax( np.abs( dRF_Matrix_2[i] ) )])])\n",
    "\n",
    "max_R_2 = np.array(max_R_2)\n",
    "\n",
    "max_RV_2 = np.argmax(max_R_2[:, 1])\n",
    "\n",
    "print(max_RV_2)\n",
    "print(max_R_2[max_RV_2][0])\n",
    "print(\"\\n\")"
   ]
  },
  {
   "cell_type": "code",
   "execution_count": null,
   "metadata": {},
   "outputs": [
    {
     "ename": "",
     "evalue": "",
     "output_type": "error",
     "traceback": [
      "\u001b[1;31mДля выполнения ячеек с \"c:\\Users\\i.kalayda\\Documents\\rls-control\\.conda\\python.exe\" требуется пакет ipykernel.\n",
      "\u001b[1;31mВыполните следующую команду, чтобы установить \"ipykernel\" в среде Python. \n",
      "\u001b[1;31mКоманда: \"conda install -p c:\\Users\\i.kalayda\\Documents\\rls-control\\.conda ipykernel --update-deps --force-reinstall\""
     ]
    }
   ],
   "source": [
    "plt.figure().set_figwidth(10)\n",
    "plt.plot(np.abs(dRF_Matrix_1[max_RV_1]))\n",
    "plt.plot([0.5 for i in range(len(dRF_Matrix_1[max_RV_1]))], linestyle=\"-.\")\n",
    "plt.plot([max_R_1[max_RV_1][0], max_R_1[max_RV_1][0]], [-0.2, 1.2], linestyle=\"-.\")\n",
    "plt.plot([0 for i in range(len(dRF_Matrix_1[max_RV_1]))], linestyle=\"-\")\n",
    "plt.ylim((-0.2, 1.2))\n",
    "plt.xlim((0, 200))\n",
    "plt.xlabel(\"Каналы дальности, dR\")\n",
    "plt.show()\n",
    "\n",
    "plt.figure().set_figwidth(10)\n",
    "plt.plot(np.abs(dRF_Matrix_2[max_RV_2]))\n",
    "plt.plot([0.5 for i in range(len(dRF_Matrix_2[max_RV_2]))], linestyle=\"-.\")\n",
    "plt.plot([max_R_2[max_RV_2][0], max_R_2[max_RV_2][0]], [-0.2, 1.2], linestyle=\"-.\")\n",
    "plt.plot([0 for i in range(len(dRF_Matrix_2[max_RV_2]))], linestyle=\"-\")\n",
    "plt.ylim((-0.2, 1.2))\n",
    "plt.xlim((0, 200))\n",
    "plt.xlabel(\"Каналы дальности, dR\")\n",
    "plt.show()"
   ]
  },
  {
   "cell_type": "code",
   "execution_count": null,
   "metadata": {},
   "outputs": [
    {
     "ename": "",
     "evalue": "",
     "output_type": "error",
     "traceback": [
      "\u001b[1;31mДля выполнения ячеек с \"c:\\Users\\i.kalayda\\Documents\\rls-control\\.conda\\python.exe\" требуется пакет ipykernel.\n",
      "\u001b[1;31mВыполните следующую команду, чтобы установить \"ipykernel\" в среде Python. \n",
      "\u001b[1;31mКоманда: \"conda install -p c:\\Users\\i.kalayda\\Documents\\rls-control\\.conda ipykernel --update-deps --force-reinstall\""
     ]
    }
   ],
   "source": [
    "plt.figure().set_figwidth(10)\n",
    "plt.plot(np.abs(dRF_Matrix_1[:, int(max_R_1[max_RV_1][0])]), \"bo\")\n",
    "plt.plot(np.abs(dRF_Matrix_1[:, int(max_R_1[max_RV_1][0])]))\n",
    "plt.plot([0.5 for i in range(len(dRF_Matrix_1[:, int(max_R_1[max_RV_1][0])]))], \"tab:orange\", linestyle=\"-.\")\n",
    "plt.plot([0 for i in range(len(dRF_Matrix_1[:, int(max_R_1[max_RV_1][0])]))], \"tab:purple\", linestyle=\"-\")\n",
    "plt.ylim((-0.2, 1.2))\n",
    "plt.xlim((0, 4))\n",
    "plt.xlabel(\"Каналы скорости, dV\")\n",
    "plt.show()\n",
    "\n",
    "plt.figure().set_figwidth(10)\n",
    "plt.plot(np.abs(dRF_Matrix_2[:, int(max_R_2[max_RV_2][0])]), \"bo\")\n",
    "plt.plot(np.abs(dRF_Matrix_2[:, int(max_R_2[max_RV_2][0])]))\n",
    "plt.plot([0.5 for i in range(len(dRF_Matrix_2[:, int(max_R_2[max_RV_2][0])]))], \"tab:orange\", linestyle=\"-.\")\n",
    "plt.plot([0 for i in range(len(dRF_Matrix_2[:, int(max_R_2[max_RV_2][0])]))], \"tab:purple\", linestyle=\"-\")\n",
    "plt.ylim((-0.2, 1.2))\n",
    "plt.xlim((0, 3))\n",
    "plt.xlabel(\"Каналы скорости, dV\")\n",
    "plt.show()"
   ]
  },
  {
   "cell_type": "code",
   "execution_count": null,
   "metadata": {},
   "outputs": [
    {
     "ename": "",
     "evalue": "",
     "output_type": "error",
     "traceback": [
      "\u001b[1;31mДля выполнения ячеек с \"c:\\Users\\i.kalayda\\Documents\\rls-control\\.conda\\python.exe\" требуется пакет ipykernel.\n",
      "\u001b[1;31mВыполните следующую команду, чтобы установить \"ipykernel\" в среде Python. \n",
      "\u001b[1;31mКоманда: \"conda install -p c:\\Users\\i.kalayda\\Documents\\rls-control\\.conda ipykernel --update-deps --force-reinstall\""
     ]
    }
   ],
   "source": [
    "data = np.abs(dRF_Matrix_2[:, int(max_R_2[max_RV_2][0])])\n",
    "print(data)\n",
    "\n",
    "x = np.array([0, 1, 2])\n",
    "data1 = np.polyfit(x, data[:-1], 2)\n",
    "\n",
    "plt.figure().set_figwidth(10)\n",
    "plt.plot(np.abs(dRF_Matrix_2[:, int(max_R_2[max_RV_2][0])]), \"bo\")\n",
    "plt.plot(np.abs(dRF_Matrix_2[:, int(max_R_2[max_RV_2][0])]))\n",
    "plt.plot(data1, \"ro\")\n",
    "plt.plot(data1, \"r-\")\n",
    "plt.plot([0.5 for i in range(len(dRF_Matrix_2[:, int(max_R_2[max_RV_2][0])]))], \"tab:orange\", linestyle=\"-.\")\n",
    "plt.plot([0 for i in range(len(dRF_Matrix_2[:, int(max_R_2[max_RV_2][0])]))], \"tab:purple\", linestyle=\"-\")\n",
    "plt.ylim((-0.2, 1.2))\n",
    "plt.xlim((0, 3))\n",
    "plt.xlabel(\"Каналы скорости, dV\")\n",
    "plt.show()"
   ]
  }
 ],
 "metadata": {
  "kernelspec": {
   "display_name": "Python 3",
   "language": "python",
   "name": "python3"
  },
  "language_info": {
   "codemirror_mode": {
    "name": "ipython",
    "version": 3
   },
   "file_extension": ".py",
   "mimetype": "text/x-python",
   "name": "python",
   "nbconvert_exporter": "python",
   "pygments_lexer": "ipython3",
   "version": "3.11.7"
  },
  "orig_nbformat": 4,
  "vscode": {
   "interpreter": {
    "hash": "26de051ba29f2982a8de78e945f0abaf191376122a1563185a90213a26c5da77"
   }
  }
 },
 "nbformat": 4,
 "nbformat_minor": 2
}
